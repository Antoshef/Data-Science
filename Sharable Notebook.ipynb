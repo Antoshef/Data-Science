{
    "cells": [
        {
            "metadata": {
                "collapsed": true
            },
            "cell_type": "markdown",
            "source": "<h1 style=\"text-align: center;\">My Jupyter Notebook on IBM Watson Studio</h1>"
        },
        {
            "metadata": {},
            "cell_type": "markdown",
            "source": "<div>\n    <p><b>Anton Stanev</b></p>\n    <p>Front End Developer</p>\n</div>"
        },
        {
            "metadata": {},
            "cell_type": "markdown",
            "source": "<p style=\"font-style: italic;\">I am interested in Data Science because it is a skill that can be used to improve different types of business and sports. And also it is a part of the AI learning which I would like to add to my portfolio.</p>"
        },
        {
            "metadata": {},
            "cell_type": "markdown",
            "source": "<h3>The next code prints all necessary skills for learning AI.</h3>"
        },
        {
            "metadata": {},
            "cell_type": "code",
            "source": "def sampleFunction(input):\n    for x in input:\n        print(x);\n        \nskills = [\"Math\", \"Data Science\", \"Machine Learning\", \"Deep Learning\"];\nsampleFunction(skills);",
            "execution_count": 5,
            "outputs": [
                {
                    "output_type": "stream",
                    "text": "Math\nData Science\nMachine Learning\nDeep Learning\n",
                    "name": "stdout"
                }
            ]
        },
        {
            "metadata": {},
            "cell_type": "markdown",
            "source": "<div>\n    <a href=\"https://www.math-exercises.com/\">Test your math skills</a>\n    <table>\n        <tr>\n            <th>Skill</th>\n            <th>Grade</th>\n        </tr>\n        <tr>\n            <td>Algebra</td>\n            <td>5.80</td>\n        </tr>\n        <tr>\n            <td>Linear Algebra</td>\n            <td>5.30</td>\n        </tr>\n    </table>\n    <img style=\"width: 180px; height: 100px;\" src=\"https://jupyter.org/assets/share.png\" alt=\"Jupiter Notebook Logo\"/>\n</div>"
        },
        {
            "metadata": {},
            "cell_type": "code",
            "source": "",
            "execution_count": null,
            "outputs": []
        }
    ],
    "metadata": {
        "kernelspec": {
            "name": "python3",
            "display_name": "Python 3.10",
            "language": "python"
        },
        "language_info": {
            "name": "python",
            "version": "3.10.6",
            "mimetype": "text/x-python",
            "codemirror_mode": {
                "name": "ipython",
                "version": 3
            },
            "pygments_lexer": "ipython3",
            "nbconvert_exporter": "python",
            "file_extension": ".py"
        }
    },
    "nbformat": 4,
    "nbformat_minor": 1
}